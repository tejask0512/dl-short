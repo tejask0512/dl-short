{
  "cells": [
    {
      "cell_type": "code",
      "execution_count": 1,
      "metadata": {
        "id": "4yY2xfMPUZIL"
      },
      "outputs": [
        {
          "ename": "ModuleNotFoundError",
          "evalue": "No module named 'tensorflow'",
          "output_type": "error",
          "traceback": [
            "\u001b[1;31m---------------------------------------------------------------------------\u001b[0m",
            "\u001b[1;31mModuleNotFoundError\u001b[0m                       Traceback (most recent call last)",
            "Cell \u001b[1;32mIn[1], line 5\u001b[0m\n\u001b[0;32m      3\u001b[0m \u001b[39mfrom\u001b[39;00m \u001b[39msklearn\u001b[39;00m\u001b[39m.\u001b[39;00m\u001b[39mmodel_selection\u001b[39;00m \u001b[39mimport\u001b[39;00m train_test_split\n\u001b[0;32m      4\u001b[0m \u001b[39mfrom\u001b[39;00m \u001b[39msklearn\u001b[39;00m\u001b[39m.\u001b[39;00m\u001b[39mpreprocessing\u001b[39;00m \u001b[39mimport\u001b[39;00m StandardScaler\n\u001b[1;32m----> 5\u001b[0m \u001b[39mfrom\u001b[39;00m \u001b[39mtensorflow\u001b[39;00m\u001b[39m.\u001b[39;00m\u001b[39mkeras\u001b[39;00m\u001b[39m.\u001b[39;00m\u001b[39mmodels\u001b[39;00m \u001b[39mimport\u001b[39;00m Sequential\n\u001b[0;32m      6\u001b[0m \u001b[39mfrom\u001b[39;00m \u001b[39mtensorflow\u001b[39;00m\u001b[39m.\u001b[39;00m\u001b[39mkeras\u001b[39;00m\u001b[39m.\u001b[39;00m\u001b[39mlayers\u001b[39;00m \u001b[39mimport\u001b[39;00m Dense\n",
            "\u001b[1;31mModuleNotFoundError\u001b[0m: No module named 'tensorflow'"
          ]
        }
      ],
      "source": [
        "import numpy as np\n",
        "from sklearn.datasets import fetch_california_housing\n",
        "from sklearn.model_selection import train_test_split\n",
        "from sklearn.preprocessing import StandardScaler\n",
        "from tensorflow.keras.models import Sequential\n",
        "from tensorflow.keras.layers import Dense"
      ]
    },
    {
      "cell_type": "code",
      "execution_count": 2,
      "metadata": {
        "id": "KkHECabbW3uY"
      },
      "outputs": [],
      "source": [
        "# Load the Boston Housing dataset  | Note: Not using Boston Dataset since it's deprecated\n",
        "# boston = load_boston()\n",
        "\n",
        "# Load the California Housing dataset\n",
        "housing = fetch_california_housing()"
      ]
    },
    {
      "cell_type": "code",
      "execution_count": 3,
      "metadata": {
        "id": "h6tkgfpYW4N4"
      },
      "outputs": [],
      "source": [
        "# Split the dataset into training and testing sets\n",
        "X_train, X_test, y_train, y_test = train_test_split(housing.data, housing.target, test_size=0.2, random_state=42)"
      ]
    },
    {
      "cell_type": "code",
      "execution_count": 4,
      "metadata": {
        "id": "PH2RKmMDW4nJ"
      },
      "outputs": [],
      "source": [
        "# Standardize the features\n",
        "scaler = StandardScaler()\n",
        "X_train = scaler.fit_transform(X_train)\n",
        "X_test = scaler.transform(X_test)"
      ]
    },
    {
      "cell_type": "code",
      "execution_count": 5,
      "metadata": {
        "id": "TgK7VLIuW48P"
      },
      "outputs": [],
      "source": [
        "# Build the model\n",
        "model = Sequential()\n",
        "model.add(Dense(64, activation='relu', input_shape=(X_train.shape[1],)))\n",
        "model.add(Dense(64, activation='relu'))\n",
        "model.add(Dense(1))"
      ]
    },
    {
      "cell_type": "code",
      "execution_count": 6,
      "metadata": {
        "colab": {
          "base_uri": "https://localhost:8080/"
        },
        "id": "SnHwJZP2W5SI",
        "outputId": "d7244060-9d9c-4117-f4b0-c40292ac1f08"
      },
      "outputs": [
        {
          "name": "stdout",
          "output_type": "stream",
          "text": [
            "Epoch 1/100\n",
            "516/516 [==============================] - 2s 2ms/step - loss: 0.7425\n",
            "Epoch 2/100\n",
            "516/516 [==============================] - 2s 3ms/step - loss: 0.3943\n",
            "Epoch 3/100\n",
            "516/516 [==============================] - 2s 3ms/step - loss: 0.3664\n",
            "Epoch 4/100\n",
            "516/516 [==============================] - 2s 3ms/step - loss: 0.3428\n",
            "Epoch 5/100\n",
            "516/516 [==============================] - 2s 3ms/step - loss: 0.3429\n",
            "Epoch 6/100\n",
            "516/516 [==============================] - 1s 2ms/step - loss: 0.3194\n",
            "Epoch 7/100\n",
            "516/516 [==============================] - 1s 2ms/step - loss: 0.3132\n",
            "Epoch 8/100\n",
            "516/516 [==============================] - 2s 3ms/step - loss: 0.3206\n",
            "Epoch 9/100\n",
            "516/516 [==============================] - 2s 4ms/step - loss: 0.3002\n",
            "Epoch 10/100\n",
            "516/516 [==============================] - 1s 2ms/step - loss: 0.2997\n",
            "Epoch 11/100\n",
            "516/516 [==============================] - 1s 2ms/step - loss: 0.2932\n",
            "Epoch 12/100\n",
            "516/516 [==============================] - 1s 2ms/step - loss: 0.2964\n",
            "Epoch 13/100\n",
            "516/516 [==============================] - 1s 2ms/step - loss: 0.2932\n",
            "Epoch 14/100\n",
            "516/516 [==============================] - 1s 2ms/step - loss: 0.2885\n",
            "Epoch 15/100\n",
            "516/516 [==============================] - 1s 2ms/step - loss: 0.2865\n",
            "Epoch 16/100\n",
            "516/516 [==============================] - 1s 2ms/step - loss: 0.2835\n",
            "Epoch 17/100\n",
            "516/516 [==============================] - 1s 2ms/step - loss: 0.2817\n",
            "Epoch 18/100\n",
            "516/516 [==============================] - 1s 2ms/step - loss: 0.2807\n",
            "Epoch 19/100\n",
            "516/516 [==============================] - 1s 2ms/step - loss: 0.2759\n",
            "Epoch 20/100\n",
            "516/516 [==============================] - 1s 2ms/step - loss: 0.2714\n",
            "Epoch 21/100\n",
            "516/516 [==============================] - 1s 2ms/step - loss: 0.2761\n",
            "Epoch 22/100\n",
            "516/516 [==============================] - 1s 2ms/step - loss: 0.2715\n",
            "Epoch 23/100\n",
            "516/516 [==============================] - 1s 2ms/step - loss: 0.2653\n",
            "Epoch 24/100\n",
            "516/516 [==============================] - 1s 2ms/step - loss: 0.2665\n",
            "Epoch 25/100\n",
            "516/516 [==============================] - 1s 2ms/step - loss: 0.2642\n",
            "Epoch 26/100\n",
            "516/516 [==============================] - 1s 2ms/step - loss: 0.2644\n",
            "Epoch 27/100\n",
            "516/516 [==============================] - 1s 2ms/step - loss: 0.2629\n",
            "Epoch 28/100\n",
            "516/516 [==============================] - 1s 2ms/step - loss: 0.2598\n",
            "Epoch 29/100\n",
            "516/516 [==============================] - 1s 2ms/step - loss: 0.2574\n",
            "Epoch 30/100\n",
            "516/516 [==============================] - 1s 2ms/step - loss: 0.2595\n",
            "Epoch 31/100\n",
            "516/516 [==============================] - 1s 2ms/step - loss: 0.2558\n",
            "Epoch 32/100\n",
            "516/516 [==============================] - 1s 2ms/step - loss: 0.2530\n",
            "Epoch 33/100\n",
            "516/516 [==============================] - 1s 2ms/step - loss: 0.2538\n",
            "Epoch 34/100\n",
            "516/516 [==============================] - 1s 2ms/step - loss: 0.2513\n",
            "Epoch 35/100\n",
            "516/516 [==============================] - 1s 2ms/step - loss: 0.2497\n",
            "Epoch 36/100\n",
            "516/516 [==============================] - 1s 2ms/step - loss: 0.2481\n",
            "Epoch 37/100\n",
            "516/516 [==============================] - 1s 2ms/step - loss: 0.2475\n",
            "Epoch 38/100\n",
            "516/516 [==============================] - 1s 2ms/step - loss: 0.2452\n",
            "Epoch 39/100\n",
            "516/516 [==============================] - 1s 2ms/step - loss: 0.2467\n",
            "Epoch 40/100\n",
            "516/516 [==============================] - 1s 2ms/step - loss: 0.2501\n",
            "Epoch 41/100\n",
            "516/516 [==============================] - 1s 2ms/step - loss: 0.2441\n",
            "Epoch 42/100\n",
            "516/516 [==============================] - 1s 2ms/step - loss: 0.2418\n",
            "Epoch 43/100\n",
            "516/516 [==============================] - 1s 2ms/step - loss: 0.2415\n",
            "Epoch 44/100\n",
            "516/516 [==============================] - 1s 2ms/step - loss: 0.2390\n",
            "Epoch 45/100\n",
            "516/516 [==============================] - 1s 2ms/step - loss: 0.2387\n",
            "Epoch 46/100\n",
            "516/516 [==============================] - 1s 2ms/step - loss: 0.2393\n",
            "Epoch 47/100\n",
            "516/516 [==============================] - 1s 2ms/step - loss: 0.2383\n",
            "Epoch 48/100\n",
            "516/516 [==============================] - 1s 2ms/step - loss: 0.2358\n",
            "Epoch 49/100\n",
            "516/516 [==============================] - 1s 2ms/step - loss: 0.2353\n",
            "Epoch 50/100\n",
            "516/516 [==============================] - 1s 2ms/step - loss: 0.2371\n",
            "Epoch 51/100\n",
            "516/516 [==============================] - 1s 2ms/step - loss: 0.2349\n",
            "Epoch 52/100\n",
            "516/516 [==============================] - 1s 2ms/step - loss: 0.2362\n",
            "Epoch 53/100\n",
            "516/516 [==============================] - 1s 2ms/step - loss: 0.2329\n",
            "Epoch 54/100\n",
            "516/516 [==============================] - 1s 2ms/step - loss: 0.2308\n",
            "Epoch 55/100\n",
            "516/516 [==============================] - 1s 2ms/step - loss: 0.2321\n",
            "Epoch 56/100\n",
            "516/516 [==============================] - 1s 2ms/step - loss: 0.2320\n",
            "Epoch 57/100\n",
            "516/516 [==============================] - 1s 2ms/step - loss: 0.2301\n",
            "Epoch 58/100\n",
            "516/516 [==============================] - 1s 2ms/step - loss: 0.2302\n",
            "Epoch 59/100\n",
            "516/516 [==============================] - 1s 2ms/step - loss: 0.2305\n",
            "Epoch 60/100\n",
            "516/516 [==============================] - 1s 2ms/step - loss: 0.2256\n",
            "Epoch 61/100\n",
            "516/516 [==============================] - 1s 2ms/step - loss: 0.2254\n",
            "Epoch 62/100\n",
            "516/516 [==============================] - 1s 2ms/step - loss: 0.2250\n",
            "Epoch 63/100\n",
            "516/516 [==============================] - 1s 2ms/step - loss: 0.2251\n",
            "Epoch 64/100\n",
            "516/516 [==============================] - 1s 2ms/step - loss: 0.2245\n",
            "Epoch 65/100\n",
            "516/516 [==============================] - 1s 2ms/step - loss: 0.2238\n",
            "Epoch 66/100\n",
            "516/516 [==============================] - 1s 2ms/step - loss: 0.2222\n",
            "Epoch 67/100\n",
            "516/516 [==============================] - 1s 2ms/step - loss: 0.2253\n",
            "Epoch 68/100\n",
            "516/516 [==============================] - 1s 2ms/step - loss: 0.2217\n",
            "Epoch 69/100\n",
            "516/516 [==============================] - 1s 2ms/step - loss: 0.2196\n",
            "Epoch 70/100\n",
            "516/516 [==============================] - 1s 2ms/step - loss: 0.2209\n",
            "Epoch 71/100\n",
            "516/516 [==============================] - 1s 2ms/step - loss: 0.2184\n",
            "Epoch 72/100\n",
            "516/516 [==============================] - 1s 2ms/step - loss: 0.2200\n",
            "Epoch 73/100\n",
            "516/516 [==============================] - 1s 2ms/step - loss: 0.2181\n",
            "Epoch 74/100\n",
            "516/516 [==============================] - 1s 2ms/step - loss: 0.2197\n",
            "Epoch 75/100\n",
            "516/516 [==============================] - 1s 2ms/step - loss: 0.2189\n",
            "Epoch 76/100\n",
            "516/516 [==============================] - 1s 2ms/step - loss: 0.2187\n",
            "Epoch 77/100\n",
            "516/516 [==============================] - 1s 2ms/step - loss: 0.2159\n",
            "Epoch 78/100\n",
            "516/516 [==============================] - 1s 2ms/step - loss: 0.2175\n",
            "Epoch 79/100\n",
            "516/516 [==============================] - 1s 2ms/step - loss: 0.2171\n",
            "Epoch 80/100\n",
            "516/516 [==============================] - 1s 2ms/step - loss: 0.2157\n",
            "Epoch 81/100\n",
            "516/516 [==============================] - 1s 2ms/step - loss: 0.2144\n",
            "Epoch 82/100\n",
            "516/516 [==============================] - 1s 2ms/step - loss: 0.2141\n",
            "Epoch 83/100\n",
            "516/516 [==============================] - 1s 2ms/step - loss: 0.2140\n",
            "Epoch 84/100\n",
            "516/516 [==============================] - 1s 2ms/step - loss: 0.2123\n",
            "Epoch 85/100\n",
            "516/516 [==============================] - 1s 2ms/step - loss: 0.2104\n",
            "Epoch 86/100\n",
            "516/516 [==============================] - 1s 2ms/step - loss: 0.2100\n",
            "Epoch 87/100\n",
            "516/516 [==============================] - 1s 2ms/step - loss: 0.2121\n",
            "Epoch 88/100\n",
            "516/516 [==============================] - 1s 2ms/step - loss: 0.2121\n",
            "Epoch 89/100\n",
            "516/516 [==============================] - 1s 2ms/step - loss: 0.2087\n",
            "Epoch 90/100\n",
            "516/516 [==============================] - 1s 2ms/step - loss: 0.2099\n",
            "Epoch 91/100\n",
            "516/516 [==============================] - 1s 2ms/step - loss: 0.2088\n",
            "Epoch 92/100\n",
            "516/516 [==============================] - 1s 2ms/step - loss: 0.2098\n",
            "Epoch 93/100\n",
            "516/516 [==============================] - 1s 2ms/step - loss: 0.2096\n",
            "Epoch 94/100\n",
            "516/516 [==============================] - 1s 2ms/step - loss: 0.2079\n",
            "Epoch 95/100\n",
            "516/516 [==============================] - 1s 2ms/step - loss: 0.2084\n",
            "Epoch 96/100\n",
            "516/516 [==============================] - 1s 2ms/step - loss: 0.2078\n",
            "Epoch 97/100\n",
            "516/516 [==============================] - 1s 2ms/step - loss: 0.2088\n",
            "Epoch 98/100\n",
            "516/516 [==============================] - 1s 2ms/step - loss: 0.2057\n",
            "Epoch 99/100\n",
            "516/516 [==============================] - 1s 2ms/step - loss: 0.2092\n",
            "Epoch 100/100\n",
            "516/516 [==============================] - 1s 2ms/step - loss: 0.2063\n"
          ]
        },
        {
          "data": {
            "text/plain": [
              "<keras.callbacks.History at 0x7f3185d96a40>"
            ]
          },
          "execution_count": 6,
          "metadata": {},
          "output_type": "execute_result"
        }
      ],
      "source": [
        "# Compile the model\n",
        "model.compile(optimizer='adam', loss='mean_squared_error')\n",
        "\n",
        "# Train the model\n",
        "model.fit(X_train, y_train, epochs=100, batch_size=32, verbose=1)"
      ]
    },
    {
      "cell_type": "code",
      "execution_count": 7,
      "metadata": {
        "colab": {
          "base_uri": "https://localhost:8080/"
        },
        "id": "GxSkKE41XMQN",
        "outputId": "c046b218-32f2-42b9-c05b-ddff3d3d7413"
      },
      "outputs": [
        {
          "name": "stdout",
          "output_type": "stream",
          "text": [
            "Test Loss: 0.27683886885643005\n"
          ]
        }
      ],
      "source": [
        "# Evaluate the model\n",
        "loss = model.evaluate(X_test, y_test, verbose=0)\n",
        "print(f'Test Loss: {loss}')"
      ]
    },
    {
      "cell_type": "code",
      "execution_count": 8,
      "metadata": {
        "colab": {
          "base_uri": "https://localhost:8080/"
        },
        "id": "Lc9xEPWFXMnH",
        "outputId": "04b2f474-31df-4405-c8b4-825201e2bb66"
      },
      "outputs": [
        {
          "name": "stdout",
          "output_type": "stream",
          "text": [
            "129/129 [==============================] - 0s 2ms/step\n"
          ]
        }
      ],
      "source": [
        "# Predict on test data\n",
        "y_pred = model.predict(X_test)"
      ]
    },
    {
      "cell_type": "code",
      "execution_count": 9,
      "metadata": {
        "colab": {
          "base_uri": "https://localhost:8080/"
        },
        "id": "X0AGl9ANXNAZ",
        "outputId": "c14b9ac1-3559-403b-d7ba-5cbd93377719"
      },
      "outputs": [
        {
          "name": "stdout",
          "output_type": "stream",
          "text": [
            "True Price: 0.477, Predicted Price: 0.45092931389808655\n",
            "True Price: 0.458, Predicted Price: 1.1457804441452026\n",
            "True Price: 5.00001, Predicted Price: 4.9573974609375\n",
            "True Price: 2.186, Predicted Price: 2.4961957931518555\n",
            "True Price: 2.78, Predicted Price: 2.728440999984741\n",
            "True Price: 1.587, Predicted Price: 1.5177549123764038\n",
            "True Price: 1.982, Predicted Price: 2.254389524459839\n",
            "True Price: 1.575, Predicted Price: 1.6170662641525269\n",
            "True Price: 3.4, Predicted Price: 2.417949914932251\n",
            "True Price: 4.466, Predicted Price: 4.7729411125183105\n"
          ]
        }
      ],
      "source": [
        "# Display sample predictions\n",
        "for i in range(10):\n",
        "    print(f'True Price: {y_test[i]}, Predicted Price: {y_pred[i][0]}')"
      ]
    }
  ],
  "metadata": {
    "colab": {
      "provenance": []
    },
    "kernelspec": {
      "display_name": "Python 3",
      "name": "python3"
    },
    "language_info": {
      "codemirror_mode": {
        "name": "ipython",
        "version": 3
      },
      "file_extension": ".py",
      "mimetype": "text/x-python",
      "name": "python",
      "nbconvert_exporter": "python",
      "pygments_lexer": "ipython3",
      "version": "3.10.0"
    }
  },
  "nbformat": 4,
  "nbformat_minor": 0
}
